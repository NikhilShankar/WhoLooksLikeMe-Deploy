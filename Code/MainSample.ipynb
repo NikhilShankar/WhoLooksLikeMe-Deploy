{
 "cells": [
  {
   "cell_type": "code",
   "execution_count": null,
   "metadata": {},
   "outputs": [],
   "source": [
    "from CosinePredictionHelper import CosinePredictionHelper\n",
    "\n",
    "modelmap = {\n",
    "    \"ModelA\": \"../FinalizedModelsForAWS/WLLM-Model-0001\", #Model A trained with first ten personalities in alphabetical order.\n",
    "    \"ModelB\": \"../FinalizedModelsForAWS/WLLM-Model-0002\", #Model B trained with fnext 10 \n",
    "    \"ModelC\": \"../FinalizedModelsForAWS/WLLM-Model-0003\" #Model C trained with next 10\n",
    "}\n",
    "\n",
    "image_dataset_path = \"../dataset\"\n",
    "\n",
    "predictions_save_path = \"../predictions\"\n",
    "\n",
    "combinedCosinePredictor = CosinePredictionHelper(models=modelmap, N=5, image_dataset_path=image_dataset_path)\n",
    "\n",
    "top_average, top_score = combinedCosinePredictor.run_pipeline(\"../test/lail.jpg\", predictions_save_path, plot=False)\n",
    "display(top_average)\n",
    "display(top_score)"
   ]
  }
 ],
 "metadata": {
  "kernelspec": {
   "display_name": "wllm-py311-venv",
   "language": "python",
   "name": "python3"
  },
  "language_info": {
   "name": "python",
   "version": "3.11.0"
  }
 },
 "nbformat": 4,
 "nbformat_minor": 2
}
